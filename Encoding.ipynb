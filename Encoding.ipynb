{
 "cells": [
  {
   "cell_type": "code",
   "execution_count": 6,
   "id": "d86846b6-0550-4c6a-ad6e-d7719845624a",
   "metadata": {},
   "outputs": [
    {
     "name": "stdout",
     "output_type": "stream",
     "text": [
      "   Embarked_Q  Embarked_S\n",
      "0       False        True\n",
      "1       False       False\n",
      "2       False        True\n",
      "3       False        True\n",
      "4       False        True\n"
     ]
    }
   ],
   "source": [
    "import pandas as pd\n",
    "url = 'https://raw.githubusercontent.com/datasciencedojo/datasets/master/titanic.csv'\n",
    "df = pd.read_csv(url)\n",
    "\n",
    "# Dummy encode the 'Embarked' column (drop one to avoid trap)\n",
    "df_encoded = pd.get_dummies(df, columns=['Embarked'], drop_first=True)\n",
    "\n",
    "print(df_encoded[['Embarked_Q', 'Embarked_S']].head())\n"
   ]
  },
  {
   "cell_type": "code",
   "execution_count": 7,
   "id": "373e884d-fa57-4888-929b-97e7009a04a7",
   "metadata": {},
   "outputs": [
    {
     "name": "stdout",
     "output_type": "stream",
     "text": [
      "  (0, 2)\t1.0\n",
      "  (1, 0)\t1.0\n",
      "  (2, 1)\t1.0\n",
      "  (3, 0)\t1.0\n",
      "   Color_Blue  Color_Green  Color_Red\n",
      "0         0.0          0.0        1.0\n",
      "1         1.0          0.0        0.0\n",
      "2         0.0          1.0        0.0\n",
      "3         1.0          0.0        0.0\n"
     ]
    }
   ],
   "source": [
    "from sklearn.preprocessing import OneHotEncoder\n",
    "import pandas as pd\n",
    "\n",
    "data = pd.DataFrame({\n",
    "    'Color': ['Red', 'Blue', 'Green', 'Blue']\n",
    "})\n",
    "\n",
    "encoder = OneHotEncoder()\n",
    "result = encoder.fit_transform(data)\n",
    "print(result)\n",
    "\n",
    "\n",
    "column_names = encoder.get_feature_names_out(['Color'])\n",
    "df_encoded = pd.DataFrame(result.toarray(), columns=column_names)\n",
    "print(df_encoded)\n"
   ]
  },
  {
   "cell_type": "code",
   "execution_count": 8,
   "id": "fac0e131-bd3f-40c5-b1ee-cce2c9389317",
   "metadata": {},
   "outputs": [
    {
     "name": "stdout",
     "output_type": "stream",
     "text": [
      "Original: ['Apple', 'Banana', 'Orange', 'Banana', 'Apple']\n",
      "Encoded: [0 1 2 1 0]\n"
     ]
    }
   ],
   "source": [
    "from sklearn.preprocessing import LabelEncoder\n",
    "\n",
    "# Sample data\n",
    "fruits = ['Apple', 'Banana', 'Orange', 'Banana', 'Apple']\n",
    "\n",
    "# Create label encoder object\n",
    "le = LabelEncoder()\n",
    "\n",
    "# Fit and transform\n",
    "encoded_fruits = le.fit_transform(fruits)\n",
    "\n",
    "print(\"Original:\", fruits)\n",
    "print(\"Encoded:\", encoded_fruits)\n"
   ]
  },
  {
   "cell_type": "code",
   "execution_count": null,
   "id": "88760dc1-e05a-4c80-946f-80197abeb9d4",
   "metadata": {},
   "outputs": [],
   "source": [
    "#print(le.classes_)  # ['Apple' 'Banana' 'Orange']"
   ]
  },
  {
   "cell_type": "code",
   "execution_count": 9,
   "id": "b0dbe396-8676-448f-8aa1-8f12a3c5aec8",
   "metadata": {},
   "outputs": [
    {
     "name": "stdout",
     "output_type": "stream",
     "text": [
      "   Color  Color_encoded\n",
      "0    Red              2\n",
      "1  Green              1\n",
      "2   Blue              0\n",
      "3  Green              1\n",
      "4    Red              2\n"
     ]
    }
   ],
   "source": [
    "import pandas as pd\n",
    "from sklearn.preprocessing import LabelEncoder\n",
    "\n",
    "# Sample DataFrame\n",
    "df = pd.DataFrame({\n",
    "    'Color': ['Red', 'Green', 'Blue', 'Green', 'Red']\n",
    "})\n",
    "\n",
    "# Create encoder and apply\n",
    "le = LabelEncoder()\n",
    "df['Color_encoded'] = le.fit_transform(df['Color'])\n",
    "\n",
    "print(df)\n"
   ]
  },
  {
   "cell_type": "code",
   "execution_count": 10,
   "id": "a428188e-ea3c-49ad-89f8-f761fb3efbb5",
   "metadata": {},
   "outputs": [
    {
     "name": "stdout",
     "output_type": "stream",
     "text": [
      "   Gender     City  Gender_encoded  City_encoded\n",
      "0    Male    Delhi               1             1\n",
      "1  Female   Mumbai               0             2\n",
      "2  Female    Delhi               0             1\n",
      "3    Male  Chennai               1             0\n"
     ]
    }
   ],
   "source": [
    "df = pd.DataFrame({\n",
    "    'Gender': ['Male', 'Female', 'Female', 'Male'],\n",
    "    'City': ['Delhi', 'Mumbai', 'Delhi', 'Chennai']\n",
    "})\n",
    "\n",
    "for col in ['Gender', 'City']:\n",
    "    le = LabelEncoder()\n",
    "    df[col + '_encoded'] = le.fit_transform(df[col])\n",
    "\n",
    "print(df)\n"
   ]
  },
  {
   "cell_type": "code",
   "execution_count": 16,
   "id": "a03e25ea-57be-47dc-8aca-6b76a9c0d99b",
   "metadata": {},
   "outputs": [
    {
     "name": "stdout",
     "output_type": "stream",
     "text": [
      "     Education  Education_encoded\n",
      "0  High School                  1\n",
      "1    Bachelors                  0\n",
      "2      Masters                  2\n",
      "3          PhD                  3\n",
      "4    Bachelors                  0\n",
      "5      Masters                  2\n"
     ]
    }
   ],
   "source": [
    "import pandas as pd\n",
    "from sklearn.preprocessing import LabelEncoder\n",
    "\n",
    "df = pd.DataFrame({\n",
    "    'Education': ['High School', 'Bachelors', 'Masters', 'PhD', 'Bachelors', 'Masters']\n",
    "})\n",
    "\n",
    "\n",
    "# encoder = OneHotEncoder()\n",
    "# result = encoder.fit_transform(df)\n",
    "# print(result)\n",
    "\n",
    "# column_names = encoder.get_feature_names_out(['Education'])\n",
    "# df_encoded = pd.DataFrame(result.toarray(), columns=column_names)\n",
    "# df_encoded\n",
    "\n",
    "\n",
    "le = LabelEncoder()\n",
    "df['Education_encoded'] = le.fit_transform(df['Education'])\n",
    "\n",
    "print(df)\n"
   ]
  },
  {
   "cell_type": "code",
   "execution_count": 12,
   "id": "87054bb4-2410-4172-97c4-db6de62f9a63",
   "metadata": {},
   "outputs": [
    {
     "name": "stdout",
     "output_type": "stream",
     "text": [
      "   CustomerID  Gender  Gender_encoded\n",
      "0         101    Male               1\n",
      "1         102  Female               0\n",
      "2         103  Female               0\n",
      "3         104    Male               1\n"
     ]
    }
   ],
   "source": [
    "df = pd.DataFrame({\n",
    "    'CustomerID': [101, 102, 103, 104],\n",
    "    'Gender': ['Male', 'Female', 'Female', 'Male']\n",
    "})\n",
    "\n",
    "le = LabelEncoder()\n",
    "df['Gender_encoded'] = le.fit_transform(df['Gender'])\n",
    "\n",
    "print(df)\n"
   ]
  },
  {
   "cell_type": "code",
   "execution_count": null,
   "id": "054e2fa3-0777-43f9-bf8e-c31d67262c5e",
   "metadata": {},
   "outputs": [],
   "source": [
    "|"
   ]
  }
 ],
 "metadata": {
  "kernelspec": {
   "display_name": "Python 3 (ipykernel)",
   "language": "python",
   "name": "python3"
  },
  "language_info": {
   "codemirror_mode": {
    "name": "ipython",
    "version": 3
   },
   "file_extension": ".py",
   "mimetype": "text/x-python",
   "name": "python",
   "nbconvert_exporter": "python",
   "pygments_lexer": "ipython3",
   "version": "3.12.3"
  }
 },
 "nbformat": 4,
 "nbformat_minor": 5
}

{
 "cells": [
  {
   "cell_type": "code",
   "execution_count": 1,
   "id": "fd3d3996-52ef-4a11-8d30-82932bfe084e",
   "metadata": {},
   "outputs": [
    {
     "name": "stdout",
     "output_type": "stream",
     "text": [
      "Standard Scaled X_train (first row): [ 1.49836523  1.06136988  0.21990201  1.13887373  0.72847289  1.05589332\n",
      " -0.82445065  0.71103773  0.54748197 -0.06144896]\n"
     ]
    }
   ],
   "source": [
    "from sklearn.datasets import load_diabetes\n",
    "from sklearn.model_selection import train_test_split\n",
    "from sklearn.preprocessing import StandardScaler\n",
    "import pandas as pd\n",
    "\n",
    "# Load diabetes dataset\n",
    "diabetes = load_diabetes()\n",
    "X = diabetes.data\n",
    "y = diabetes.target\n",
    "\n",
    "# Split\n",
    "X_train, X_test, y_train, y_test = train_test_split(X, y, test_size=0.2, random_state=42)\n",
    "\n",
    "# Standard scaling\n",
    "scaler = StandardScaler()\n",
    "X_train_scaled = scaler.fit_transform(X_train)\n",
    "X_test_scaled = scaler.transform(X_test)\n",
    "\n",
    "print(\"Standard Scaled X_train (first row):\", X_train_scaled[0])\n"
   ]
  },
  {
   "cell_type": "code",
   "execution_count": 2,
   "id": "55574e4d-4ac6-4fea-b376-42189207bf27",
   "metadata": {},
   "outputs": [
    {
     "name": "stdout",
     "output_type": "stream",
     "text": [
      "MinMax Scaled X_train shape: (398, 30)\n"
     ]
    }
   ],
   "source": [
    "from sklearn.datasets import load_breast_cancer\n",
    "from sklearn.model_selection import train_test_split\n",
    "from sklearn.preprocessing import MinMaxScaler\n",
    "\n",
    "# Load data\n",
    "cancer = load_breast_cancer()\n",
    "X = cancer.data\n",
    "y = cancer.target\n",
    "\n",
    "# Split data\n",
    "X_train, X_test, y_train, y_test = train_test_split(X, y, test_size=0.3, random_state=0)\n",
    "\n",
    "# Min-Max scaling\n",
    "scaler = MinMaxScaler()\n",
    "X_train_scaled = scaler.fit_transform(X_train)\n",
    "X_test_scaled = scaler.transform(X_test)\n",
    "\n",
    "print(\"MinMax Scaled X_train shape:\", X_train_scaled.shape)\n"
   ]
  },
  {
   "cell_type": "code",
   "execution_count": 3,
   "id": "772cd43d-1103-4d76-81e3-8df610dd6f16",
   "metadata": {},
   "outputs": [
    {
     "name": "stdout",
     "output_type": "stream",
     "text": [
      "Original Cities: ['Chennai' 'Delhi' 'Kolkata' 'Mumbai']\n",
      "Standard Scaled X_train:\n",
      " [[ 1.50755672  0.77709831  0.88168581]\n",
      " [-0.90453403 -1.07113551 -1.04199232]\n",
      " [-0.90453403 -0.90311425 -0.9503886 ]\n",
      " [ 0.30151134  1.19715145  1.11069511]]\n"
     ]
    }
   ],
   "source": [
    "import pandas as pd\n",
    "from sklearn.model_selection import train_test_split\n",
    "from sklearn.preprocessing import LabelEncoder, StandardScaler\n",
    "\n",
    "# Example dataset\n",
    "df = pd.DataFrame({\n",
    "    'City': ['Delhi', 'Mumbai', 'Chennai', 'Kolkata', 'Delhi'],\n",
    "    'Age': [25, 45, 35, 50, 23],\n",
    "    'Income': [40000, 80000, 60000, 85000, 38000],\n",
    "    'Purchased': [0, 1, 1, 1, 0]\n",
    "})\n",
    "\n",
    "# Label encode 'City'\n",
    "le = LabelEncoder()\n",
    "df['City'] = le.fit_transform(df['City'])\n",
    "\n",
    "# Split\n",
    "X = df[['City', 'Age', 'Income']]\n",
    "y = df['Purchased']\n",
    "X_train, X_test, y_train, y_test = train_test_split(X, y, test_size=0.2, random_state=1)\n",
    "\n",
    "# Standard scaling\n",
    "scaler = StandardScaler()\n",
    "X_train_scaled = scaler.fit_transform(X_train)\n",
    "X_test_scaled = scaler.transform(X_test)\n",
    "\n",
    "print(\"Original Cities:\", le.classes_)\n",
    "print(\"Standard Scaled X_train:\\n\", X_train_scaled)\n"
   ]
  },
  {
   "cell_type": "code",
   "execution_count": null,
   "id": "1904e8cf-8ec6-431c-8f87-90b490d30f5e",
   "metadata": {},
   "outputs": [],
   "source": []
  }
 ],
 "metadata": {
  "kernelspec": {
   "display_name": "Python 3 (ipykernel)",
   "language": "python",
   "name": "python3"
  },
  "language_info": {
   "codemirror_mode": {
    "name": "ipython",
    "version": 3
   },
   "file_extension": ".py",
   "mimetype": "text/x-python",
   "name": "python",
   "nbconvert_exporter": "python",
   "pygments_lexer": "ipython3",
   "version": "3.12.3"
  }
 },
 "nbformat": 4,
 "nbformat_minor": 5
}
